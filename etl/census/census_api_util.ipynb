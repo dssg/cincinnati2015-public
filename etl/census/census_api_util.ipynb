{
 "cells": [
  {
   "cell_type": "code",
   "execution_count": 2,
   "metadata": {
    "collapsed": false
   },
   "outputs": [],
   "source": [
    "import census_api_util as api\n",
    "from sqlalchemy import create_engine\n",
    "import dbconfig\n",
    "import pandas as pd\n",
    "#test query_census_api function"
   ]
  },
  {
   "cell_type": "code",
   "execution_count": 3,
   "metadata": {
    "collapsed": true
   },
   "outputs": [],
   "source": [
    "engine = create_engine('postgresql://{conf.user}:{conf.password}@{conf.host}:5432/{conf.database}'.format(conf=dbconfig))"
   ]
  },
  {
   "cell_type": "markdown",
   "metadata": {},
   "source": [
    "Look up columns for all tracts/block groups from 2010 decimal census\n",
    "(bunched in groups of 20 due to api quatas)"
   ]
  },
  {
   "cell_type": "code",
   "execution_count": 4,
   "metadata": {
    "collapsed": false,
    "scrolled": true
   },
   "outputs": [
    {
     "name": "stdout",
     "output_type": "stream",
     "text": [
      "\n",
      "API URL:\n",
      "http://api.census.gov/data/2010/sf1?get=H0030001,H0030002,H0030003,H0040002,H0040004,H0050002,H0060002,H0060003,H0060004,H0060005,H0060006,H0060007,H0060008,H0100001,H0130002,H0130003,H0130004,H0130005,H0130006,H0130007&for=block+group:*&in=state:39+county:061&key=a6e317918af5d4097d792cabd992f41f2691b75e\n",
      "\n",
      "API URL:\n",
      "http://api.census.gov/data/2010/sf1?get=H0130008,H0140002,H0140003,H0140004,H0140005,H0140006,H0140007,H0140008,H0140009,H0140010,H0140011,H0140012,H0140013,H0140014,H0140015,H0140016,H0140017,H0150001,H0150002,H0150003&for=block+group:*&in=state:39+county:061&key=a6e317918af5d4097d792cabd992f41f2691b75e\n",
      "\n",
      "API URL:\n",
      "http://api.census.gov/data/2010/sf1?get=H0150004,H0150005,H0150006,H0150007,H0190003,H0190004,H0190005,H0190006,H0190007,H0200002,H0200003,P0010001,P0030002,P0030003,P0030004,P0030005,P0030006,P0030007,P0030008,P0110001&for=block+group:*&in=state:39+county:061&key=a6e317918af5d4097d792cabd992f41f2691b75e\n",
      "\n",
      "API URL:\n",
      "http://api.census.gov/data/2010/sf1?get=P0120003,P0120004,P0120005,P0120006,P0120007,P0120008,P0120009,P0120010,P0120011,P0120012,P0120013,P0120014,P0120015,P0120016,P0120017,P0120018,P0120019,P0120020,P0120021,P0120022&for=block+group:*&in=state:39+county:061&key=a6e317918af5d4097d792cabd992f41f2691b75e\n",
      "\n",
      "API URL:\n",
      "http://api.census.gov/data/2010/sf1?get=P0120023,P0120024,P0120025,P0120026,P0120027,P0120028,P0120029,P0120030,P0120031,P0120032,P0120033,P0120034,P0120035,P0120036,P0120037,P0120038,P0120039,P0120040,P0120041,P0120042&for=block+group:*&in=state:39+county:061&key=a6e317918af5d4097d792cabd992f41f2691b75e\n",
      "\n",
      "API URL:\n",
      "http://api.census.gov/data/2010/sf1?get=P0120043,P0120044,P0120045,P0120046,P0120047,P0120048,P0120049,P0180001,P0180002,P0180003,P0180004&for=block+group:*&in=state:39+county:061&key=a6e317918af5d4097d792cabd992f41f2691b75e\n"
     ]
    }
   ],
   "source": [
    "census_20 = api.query_census_api('census',39, '061','*','*',['H0030001',\t'H0030002',\t'H0030003',\t'H0040002',\t'H0040004',\t'H0050002',\t'H0060002',\t'H0060003',\t'H0060004',\t'H0060005',\t'H0060006',\t'H0060007',\t'H0060008',\t'H0100001',\t'H0130002',\t'H0130003',\t'H0130004',\t'H0130005',\t'H0130006',\t'H0130007'], 2010, 'a6e317918af5d4097d792cabd992f41f2691b75e', verbose=True)\n",
    "census_40 = api.query_census_api('census',39, '061','*','*',['H0130008',\t'H0140002',\t'H0140003',\t'H0140004',\t'H0140005',\t'H0140006',\t'H0140007',\t'H0140008',\t'H0140009',\t'H0140010',\t'H0140011',\t'H0140012',\t'H0140013',\t'H0140014',\t'H0140015',\t'H0140016',\t'H0140017',\t'H0150001',\t'H0150002',\t'H0150003'], 2010, 'a6e317918af5d4097d792cabd992f41f2691b75e', verbose=True)\n",
    "census_60 = api.query_census_api('census',39, '061','*','*',['H0150004',\t'H0150005',\t'H0150006',\t'H0150007',\t'H0190003',\t'H0190004',\t'H0190005',\t'H0190006',\t'H0190007',\t'H0200002',\t'H0200003',\t'P0010001',\t'P0030002',\t'P0030003',\t'P0030004',\t'P0030005',\t'P0030006',\t'P0030007',\t'P0030008',\t'P0110001'], 2010, 'a6e317918af5d4097d792cabd992f41f2691b75e', verbose=True)\n",
    "census_80 = api.query_census_api('census',39, '061','*','*',['P0120003',\t'P0120004',\t'P0120005',\t'P0120006',\t'P0120007',\t'P0120008',\t'P0120009',\t'P0120010',\t'P0120011',\t'P0120012',\t'P0120013',\t'P0120014',\t'P0120015',\t'P0120016',\t'P0120017',\t'P0120018',\t'P0120019',\t'P0120020',\t'P0120021',\t'P0120022'], 2010, 'a6e317918af5d4097d792cabd992f41f2691b75e', verbose=True)\n",
    "census_100 = api.query_census_api('census',39, '061','*','*',['P0120023',\t'P0120024',\t'P0120025',\t'P0120026',\t'P0120027',\t'P0120028',\t'P0120029',\t'P0120030',\t'P0120031',\t'P0120032',\t'P0120033',\t'P0120034',\t'P0120035',\t'P0120036',\t'P0120037',\t'P0120038',\t'P0120039',\t'P0120040',\t'P0120041',\t'P0120042'], 2010, 'a6e317918af5d4097d792cabd992f41f2691b75e', verbose=True)\n",
    "census_111 = api.query_census_api('census',39, '061','*','*',['P0120043',\t'P0120044',\t'P0120045',\t'P0120046',\t'P0120047',\t'P0120048',\t'P0120049',\t'P0180001',\t'P0180002',\t'P0180003',\t'P0180004'], 2010, 'a6e317918af5d4097d792cabd992f41f2691b75e', verbose=True)"
   ]
  },
  {
   "cell_type": "code",
   "execution_count": 5,
   "metadata": {
    "collapsed": false
   },
   "outputs": [
    {
     "name": "stdout",
     "output_type": "stream",
     "text": [
      "\n",
      "API URL:\n",
      "http://api.census.gov/data/2000/sf1?get=H003001&for=block+group:*&in=state:39+county:061&key=a6e317918af5d4097d792cabd992f41f2691b75e\n"
     ]
    }
   ],
   "source": [
    "#look up same values from 2000 census\n",
    "census_00_20 = api.query_census_api('census',39, '061','*','*',['H003001'], 2000, 'a6e317918af5d4097d792cabd992f41f2691b75e', verbose=True)"
   ]
  },
  {
   "cell_type": "markdown",
   "metadata": {},
   "source": [
    "merge all dataframes to one based on pairs of tracts and block groups and drop 'state' and 'county' columns"
   ]
  },
  {
   "cell_type": "code",
   "execution_count": 5,
   "metadata": {
    "collapsed": true
   },
   "outputs": [],
   "source": [
    "census_df = [census_20, census_40, census_60, census_80, census_100, census_111]"
   ]
  },
  {
   "cell_type": "code",
   "execution_count": 6,
   "metadata": {
    "collapsed": true
   },
   "outputs": [],
   "source": [
    "census_df_clean = [df.drop(['state', 'county'], axis=1) for df in census_df]"
   ]
  },
  {
   "cell_type": "code",
   "execution_count": 7,
   "metadata": {
    "collapsed": false
   },
   "outputs": [
    {
     "data": {
      "text/html": [
       "<div style=\"max-height:1000px;max-width:1500px;overflow:auto;\">\n",
       "<table border=\"1\" class=\"dataframe\">\n",
       "  <thead>\n",
       "    <tr style=\"text-align: right;\">\n",
       "      <th></th>\n",
       "      <th>H0030001</th>\n",
       "      <th>H0030002</th>\n",
       "      <th>H0030003</th>\n",
       "      <th>H0040002</th>\n",
       "      <th>H0040004</th>\n",
       "      <th>H0050002</th>\n",
       "      <th>H0060002</th>\n",
       "      <th>H0060003</th>\n",
       "      <th>H0060004</th>\n",
       "      <th>H0060005</th>\n",
       "      <th>...</th>\n",
       "      <th>H0060008</th>\n",
       "      <th>H0100001</th>\n",
       "      <th>H0130002</th>\n",
       "      <th>H0130003</th>\n",
       "      <th>H0130004</th>\n",
       "      <th>H0130005</th>\n",
       "      <th>H0130006</th>\n",
       "      <th>H0130007</th>\n",
       "      <th>tract</th>\n",
       "      <th>block group</th>\n",
       "    </tr>\n",
       "  </thead>\n",
       "  <tbody>\n",
       "    <tr>\n",
       "      <th>0</th>\n",
       "      <td>  576</td>\n",
       "      <td> 516</td>\n",
       "      <td>  60</td>\n",
       "      <td>  1</td>\n",
       "      <td> 513</td>\n",
       "      <td>  50</td>\n",
       "      <td>   9</td>\n",
       "      <td> 491</td>\n",
       "      <td> 1</td>\n",
       "      <td>  3</td>\n",
       "      <td>...</td>\n",
       "      <td> 11</td>\n",
       "      <td> 1053</td>\n",
       "      <td> 230</td>\n",
       "      <td> 137</td>\n",
       "      <td> 91</td>\n",
       "      <td> 34</td>\n",
       "      <td> 10</td>\n",
       "      <td> 10</td>\n",
       "      <td> 000200</td>\n",
       "      <td> 1</td>\n",
       "    </tr>\n",
       "    <tr>\n",
       "      <th>1</th>\n",
       "      <td>  142</td>\n",
       "      <td>  94</td>\n",
       "      <td>  48</td>\n",
       "      <td>  0</td>\n",
       "      <td>  94</td>\n",
       "      <td>  16</td>\n",
       "      <td>  77</td>\n",
       "      <td>  11</td>\n",
       "      <td> 0</td>\n",
       "      <td>  3</td>\n",
       "      <td>...</td>\n",
       "      <td>  2</td>\n",
       "      <td>  150</td>\n",
       "      <td>  53</td>\n",
       "      <td>  31</td>\n",
       "      <td>  6</td>\n",
       "      <td>  3</td>\n",
       "      <td>  1</td>\n",
       "      <td>  0</td>\n",
       "      <td> 000700</td>\n",
       "      <td> 1</td>\n",
       "    </tr>\n",
       "    <tr>\n",
       "      <th>2</th>\n",
       "      <td> 1182</td>\n",
       "      <td> 974</td>\n",
       "      <td> 208</td>\n",
       "      <td> 28</td>\n",
       "      <td> 944</td>\n",
       "      <td> 119</td>\n",
       "      <td> 726</td>\n",
       "      <td> 173</td>\n",
       "      <td> 0</td>\n",
       "      <td> 53</td>\n",
       "      <td>...</td>\n",
       "      <td> 13</td>\n",
       "      <td> 1260</td>\n",
       "      <td> 738</td>\n",
       "      <td> 206</td>\n",
       "      <td> 21</td>\n",
       "      <td>  4</td>\n",
       "      <td>  2</td>\n",
       "      <td>  1</td>\n",
       "      <td> 000700</td>\n",
       "      <td> 2</td>\n",
       "    </tr>\n",
       "    <tr>\n",
       "      <th>3</th>\n",
       "      <td>  607</td>\n",
       "      <td> 512</td>\n",
       "      <td>  95</td>\n",
       "      <td> 39</td>\n",
       "      <td> 468</td>\n",
       "      <td>  27</td>\n",
       "      <td> 307</td>\n",
       "      <td> 178</td>\n",
       "      <td> 1</td>\n",
       "      <td> 13</td>\n",
       "      <td>...</td>\n",
       "      <td>  7</td>\n",
       "      <td>  601</td>\n",
       "      <td> 440</td>\n",
       "      <td>  62</td>\n",
       "      <td>  6</td>\n",
       "      <td>  1</td>\n",
       "      <td>  3</td>\n",
       "      <td>  0</td>\n",
       "      <td> 000700</td>\n",
       "      <td> 3</td>\n",
       "    </tr>\n",
       "    <tr>\n",
       "      <th>4</th>\n",
       "      <td>  684</td>\n",
       "      <td> 148</td>\n",
       "      <td> 536</td>\n",
       "      <td> 11</td>\n",
       "      <td> 136</td>\n",
       "      <td>  43</td>\n",
       "      <td>  42</td>\n",
       "      <td> 104</td>\n",
       "      <td> 1</td>\n",
       "      <td>  1</td>\n",
       "      <td>...</td>\n",
       "      <td>  0</td>\n",
       "      <td>  268</td>\n",
       "      <td>  72</td>\n",
       "      <td>  46</td>\n",
       "      <td> 20</td>\n",
       "      <td>  7</td>\n",
       "      <td>  2</td>\n",
       "      <td>  1</td>\n",
       "      <td> 000900</td>\n",
       "      <td> 1</td>\n",
       "    </tr>\n",
       "  </tbody>\n",
       "</table>\n",
       "<p>5 rows × 22 columns</p>\n",
       "</div>"
      ],
      "text/plain": [
       "   H0030001  H0030002  H0030003  H0040002  H0040004  H0050002  H0060002  \\\n",
       "0       576       516        60         1       513        50         9   \n",
       "1       142        94        48         0        94        16        77   \n",
       "2      1182       974       208        28       944       119       726   \n",
       "3       607       512        95        39       468        27       307   \n",
       "4       684       148       536        11       136        43        42   \n",
       "\n",
       "   H0060003  H0060004  H0060005     ...       H0060008  H0100001  H0130002  \\\n",
       "0       491         1         3     ...             11      1053       230   \n",
       "1        11         0         3     ...              2       150        53   \n",
       "2       173         0        53     ...             13      1260       738   \n",
       "3       178         1        13     ...              7       601       440   \n",
       "4       104         1         1     ...              0       268        72   \n",
       "\n",
       "   H0130003  H0130004  H0130005  H0130006  H0130007   tract  block group  \n",
       "0       137        91        34        10        10  000200            1  \n",
       "1        31         6         3         1         0  000700            1  \n",
       "2       206        21         4         2         1  000700            2  \n",
       "3        62         6         1         3         0  000700            3  \n",
       "4        46        20         7         2         1  000900            1  \n",
       "\n",
       "[5 rows x 22 columns]"
      ]
     },
     "execution_count": 7,
     "metadata": {},
     "output_type": "execute_result"
    }
   ],
   "source": [
    "census_df_clean[0].head()"
   ]
  },
  {
   "cell_type": "code",
   "execution_count": 8,
   "metadata": {
    "collapsed": true
   },
   "outputs": [],
   "source": [
    "census_pop_housing = reduce(lambda left,right: pd.merge(left,right,on=['tract','block group']), census_df_clean)"
   ]
  },
  {
   "cell_type": "code",
   "execution_count": 21,
   "metadata": {
    "collapsed": false
   },
   "outputs": [],
   "source": [
    "census_pop_housing.rename(columns={'block group': 'block_group'}, inplace=True)"
   ]
  },
  {
   "cell_type": "code",
   "execution_count": 24,
   "metadata": {
    "collapsed": false
   },
   "outputs": [],
   "source": [
    "census_pop_housing.to_sql('census_pop_housing', engine, schema='shape_files', if_exists='replace')"
   ]
  }
 ],
 "metadata": {
  "kernelspec": {
   "display_name": "Python 2",
   "language": "python",
   "name": "python2"
  },
  "language_info": {
   "codemirror_mode": {
    "name": "ipython",
    "version": 2
   },
   "file_extension": ".py",
   "mimetype": "text/x-python",
   "name": "python",
   "nbconvert_exporter": "python",
   "pygments_lexer": "ipython2",
   "version": "2.7.10"
  }
 },
 "nbformat": 4,
 "nbformat_minor": 0
}
